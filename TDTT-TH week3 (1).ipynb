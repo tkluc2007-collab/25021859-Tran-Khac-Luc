{
 "cells": [
  {
   "cell_type": "code",
   "execution_count": 1,
   "id": "78103b65-8a8b-4e12-94b6-5d23652b5198",
   "metadata": {},
   "outputs": [
    {
     "name": "stdin",
     "output_type": "stream",
     "text": [
      "số nguyên n: 5\n"
     ]
    },
    {
     "name": "stdout",
     "output_type": "stream",
     "text": [
      "10\n"
     ]
    }
   ],
   "source": [
    "#Bài1 \n",
    "n = int(input(\"số nguyên n:\"))\n",
    "print(2*n)"
   ]
  },
  {
   "cell_type": "code",
   "execution_count": 5,
   "id": "4f7bd449-55a5-49d7-9cf9-2d12f51286be",
   "metadata": {},
   "outputs": [
    {
     "name": "stdin",
     "output_type": "stream",
     "text": [
      "chiều dài: 8\n",
      "chiều rộng: 6\n"
     ]
    },
    {
     "name": "stdout",
     "output_type": "stream",
     "text": [
      "19.74\n"
     ]
    }
   ],
   "source": [
    "#Bài2\n",
    "a = float(input(\"chiều dài:\"))\n",
    "b = float(input(\"chiều rộng:\"))\n",
    "r = b/2 #r là bán kính hình tròn\n",
    "S_trong_cay = a*b - r**2*3.14\n",
    "print(S_trong_cay)"
   ]
  },
  {
   "cell_type": "code",
   "execution_count": 8,
   "id": "a6fe9c8d-6f78-4f31-bcad-84bb731595aa",
   "metadata": {},
   "outputs": [
    {
     "name": "stdin",
     "output_type": "stream",
     "text": [
      "Nhập kí tự: e\n"
     ]
    },
    {
     "name": "stdout",
     "output_type": "stream",
     "text": [
      "E\n"
     ]
    }
   ],
   "source": [
    "#Bài3\n",
    "ki_tu = input(\"Nhập kí tự:\")\n",
    "if ki_tu.isalpha():\n",
    "    if ki_tu.islower():\n",
    "        print(ki_tu.upper())\n",
    "    else:\n",
    "        print(ki_tu.lower)\n",
    "else:\n",
    "    print(\"Đây không phải là một ký tự chữ cái.\")\n",
    "        \n",
    "\n"
   ]
  },
  {
   "cell_type": "code",
   "execution_count": 13,
   "id": "54c227fb-d707-453b-a9a5-bba814d8ed79",
   "metadata": {},
   "outputs": [
    {
     "name": "stdin",
     "output_type": "stream",
     "text": [
      "Nhập kí tự: h\n"
     ]
    },
    {
     "name": "stdout",
     "output_type": "stream",
     "text": [
      "Đó là kí tu alphabet\n"
     ]
    }
   ],
   "source": [
    "#Bài4\n",
    "ki_tu = input(\"Nhập kí tự:\")\n",
    "if ki_tu.isalpha():\n",
    "    print(\"Đó là kí tu alphabet\")\n",
    "else:\n",
    "    print(\"Đó không phải là kí tự alphabet\")\n",
    "\n",
    "\n",
    "\n",
    "    "
   ]
  },
  {
   "cell_type": "code",
   "execution_count": 31,
   "id": "fa6b3a40-7df3-4c5c-9eb6-707a3c6a083b",
   "metadata": {},
   "outputs": [
    {
     "name": "stdin",
     "output_type": "stream",
     "text": [
      "Nhập chữ cái hoa: A\n"
     ]
    },
    {
     "name": "stdout",
     "output_type": "stream",
     "text": [
      "c\n"
     ]
    }
   ],
   "source": [
    "#Bài5\n",
    "nhap_vao = input(\"Nhập chữ cái hoa:\")\n",
    "chu_thuong = nhap_vao.lower()\n",
    "if chu_thuong == 'a':\n",
    "    print('c')\n",
    "else:\n",
    "    chu_cai_lien_truoc = chr(ord(chu_thuong) - 1)\n",
    "    print(chu_cai_lien_truoc)"
   ]
  },
  {
   "cell_type": "code",
   "execution_count": 33,
   "id": "f9c0214f-7dbe-4d27-baed-c1cc86330686",
   "metadata": {},
   "outputs": [
    {
     "name": "stdin",
     "output_type": "stream",
     "text": [
      " 3\n",
      " 4\n",
      " 5\n"
     ]
    },
    {
     "name": "stdout",
     "output_type": "stream",
     "text": [
      "Diện tích tam giác :6.0\n"
     ]
    }
   ],
   "source": [
    "#Bài6\n",
    "import math\n",
    "a = float(input())\n",
    "b = float(input())\n",
    "c = float(input())\n",
    "if (a + b > c) and (a + c > b) and (b + c > a):\n",
    "    p = (a + b + c)/2\n",
    "    dien_tich = math.sqrt(p*(p-a)*(p-b)*(p-c))\n",
    "    print(f\"Diện tích tam giác :{dien_tich:.1f}\")\n",
    "else:\n",
    "    print(\"Đây không phải tam giác.\")"
   ]
  },
  {
   "cell_type": "code",
   "execution_count": 41,
   "id": "07515c64-edee-448e-a82d-537976d93d1c",
   "metadata": {},
   "outputs": [
    {
     "name": "stdout",
     "output_type": "stream",
     "text": [
      "ã\n",
      "u\n"
     ]
    }
   ],
   "source": [
    "#Bài7\n",
    "chuoi_ki_tu = \"cơn bão bualoi mạnh quá\"\n",
    "ki_tu5 = chuoi_ki_tu[5]\n",
    "ki_tu9 = chuoi_ki_tu[9]\n",
    "print(ki_tu5)\n",
    "print(ki_tu9)"
   ]
  },
  {
   "cell_type": "code",
   "execution_count": 42,
   "id": "5028f47d-43aa-4a70-84a4-cba25d16effb",
   "metadata": {},
   "outputs": [
    {
     "name": "stdout",
     "output_type": "stream",
     "text": [
      "Ho va ten: Pham Xuan Toai\n",
      "  Tien phai tra la: 107136\n",
      "Ho va ten: Nguyen Xuan Long\n",
      "  Tien phai tra la: 426038\n"
     ]
    }
   ],
   "source": [
    "#Bài8\n",
    "def tinh_tien_dien(chi_so_truoc, chi_so_nay):\n",
    "    # Số điện tiêu thụ\n",
    "    so_kwh = chi_so_nay - chi_so_truoc\n",
    "    bac = [\n",
    "        (50, 1984),    \n",
    "        (50, 2050),   \n",
    "        (100, 2380),   \n",
    "        (100, 2998),   \n",
    "        (100, 3350),    \n",
    "        (999999, 3460) \n",
    "    ]\n",
    "    tong_tien = 0\n",
    "    for dinh_muc, gia in bac:\n",
    "        if so_kwh > 0:\n",
    "            so_dung = min(so_kwh, dinh_muc)\n",
    "            tong_tien += so_dung * gia\n",
    "            so_kwh -= so_dung\n",
    "        else:\n",
    "            break\n",
    "    tong_tien *= 1.08\n",
    "    return round(tong_tien)\n",
    "ds_ho = [\n",
    "    (\"Pham Xuan Toai\", 1020, 1070),\n",
    "    (\"Nguyen Xuan Long\", 2097, 2278),\n",
    "    (\"Nguyen Xuan Hai\", 2000, 25\n",
    "]\n",
    "for ho_ten, truoc, nay in ds_ho:\n",
    "    tien = tinh_tien_dien(truoc, nay)\n",
    "    print(f\"Ho va ten: {ho_ten}\")\n",
    "    print(f\"  Tien phai tra la: {tien}\")"
   ]
  },
  {
   "cell_type": "code",
   "execution_count": null,
   "id": "1483aff0-8a5b-434d-89f4-9457914219c8",
   "metadata": {},
   "outputs": [],
   "source": []
  }
 ],
 "metadata": {
  "kernelspec": {
   "display_name": "Python 3 (ipykernel)",
   "language": "python",
   "name": "python3"
  },
  "language_info": {
   "codemirror_mode": {
    "name": "ipython",
    "version": 3
   },
   "file_extension": ".py",
   "mimetype": "text/x-python",
   "name": "python",
   "nbconvert_exporter": "python",
   "pygments_lexer": "ipython3",
   "version": "3.13.5"
  }
 },
 "nbformat": 4,
 "nbformat_minor": 5
}
