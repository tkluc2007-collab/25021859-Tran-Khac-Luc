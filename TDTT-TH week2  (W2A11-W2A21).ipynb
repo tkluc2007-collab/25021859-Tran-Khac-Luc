{
 "cells": [
  {
   "cell_type": "code",
   "execution_count": 1,
   "id": "7e7944e4-d4a3-4c69-9e40-3bc6fd768ecc",
   "metadata": {},
   "outputs": [
    {
     "name": "stdin",
     "output_type": "stream",
     "text": [
      " 1\n",
      " 5\n"
     ]
    },
    {
     "name": "stdout",
     "output_type": "stream",
     "text": [
      "3900.0 s\n"
     ]
    }
   ],
   "source": [
    "#W2A11\n",
    "gio = float(input())\n",
    "phut =float(input())\n",
    "giay = (gio)*3600 + (phut)*60\n",
    "print(giay,'s')"
   ]
  },
  {
   "cell_type": "code",
   "execution_count": 2,
   "id": "06b15201-cfff-4cc8-a22d-774c981acf36",
   "metadata": {},
   "outputs": [
    {
     "name": "stdin",
     "output_type": "stream",
     "text": [
      " 3\n"
     ]
    },
    {
     "name": "stdout",
     "output_type": "stream",
     "text": [
      "54\n"
     ]
    }
   ],
   "source": [
    "#W2A12\n",
    "do_dai_canh = int(input())\n",
    "so_mieng_dan = (do_dai_canh)**2*6\n",
    "print(so_mieng_dan)"
   ]
  },
  {
   "cell_type": "code",
   "execution_count": 3,
   "id": "704413c3-0071-40fa-b2b1-6175abcbdee7",
   "metadata": {},
   "outputs": [
    {
     "name": "stdin",
     "output_type": "stream",
     "text": [
      " 2\n",
      " 3\n"
     ]
    },
    {
     "name": "stdout",
     "output_type": "stream",
     "text": [
      "6\n"
     ]
    }
   ],
   "source": [
    "#W2A13\n",
    "a = int(input())\n",
    "b = int(input())\n",
    "print(a*b)"
   ]
  },
  {
   "cell_type": "code",
   "execution_count": 10,
   "id": "e24cd3f1-d345-41fd-b811-2f28248a33b0",
   "metadata": {},
   "outputs": [
    {
     "name": "stdin",
     "output_type": "stream",
     "text": [
      " 1\n",
      " 2\n"
     ]
    },
    {
     "name": "stdout",
     "output_type": "stream",
     "text": [
      "1,2\n",
      "2,1\n"
     ]
    }
   ],
   "source": [
    "#W2A14\n",
    "a = int(input())\n",
    "b = int(input())\n",
    "print(f\"{a},{b}\")\n",
    "a = a + b\n",
    "b = a - b\n",
    "a = a - b\n",
    "print(f\"{a},{b}\")\n"
   ]
  },
  {
   "cell_type": "code",
   "execution_count": 17,
   "id": "6dd42f27-0bb2-4584-8376-0fcd101ca9d8",
   "metadata": {},
   "outputs": [
    {
     "name": "stdin",
     "output_type": "stream",
     "text": [
      "Nhập vị trí số nguyên dương n để tìm số sao thứ n:  5\n"
     ]
    },
    {
     "name": "stdout",
     "output_type": "stream",
     "text": [
      "\n",
      "--- KẾT QUẢ ---\n",
      "số sao thứ 5 là : 21\n"
     ]
    }
   ],
   "source": [
    "#W2A15\n",
    "while True:\n",
    "    try:\n",
    "        n = int(input(\"Nhập vị trí số nguyên dương n để tìm số sao thứ n: \"))\n",
    "        if n <= 0 :\n",
    "            print(\"Vui lòng nhập một số nguyên dương (n > 0).\")\n",
    "            continue\n",
    "        result = n*(n-1) + 1\n",
    "        print(f\"\\n--- KẾT QUẢ ---\")\n",
    "        print(f\"số sao thứ {n} là : {result}\")\n",
    "        break\n",
    "    except ValueError:\n",
    "        print(\"Đầu vào không hợp lệ. Vui lòng nhập một SỐ NGUYÊN.\")\n",
    "\n"
   ]
  },
  {
   "cell_type": "code",
   "execution_count": 24,
   "id": "7e72d998-4a93-4249-961c-598ce3d0e371",
   "metadata": {},
   "outputs": [
    {
     "name": "stdout",
     "output_type": "stream",
     "text": [
      "Spring\n",
      "Summer\n",
      "Autumn\n",
      "Winter\n"
     ]
    }
   ],
   "source": [
    "#W2A16\n",
    "print(\"Spring\\nSummer\\nAutumn\\nWinter\")"
   ]
  },
  {
   "cell_type": "code",
   "execution_count": 26,
   "id": "a9e34c0f-3f77-4517-8d8e-ea72cee1a22c",
   "metadata": {},
   "outputs": [
    {
     "name": "stdout",
     "output_type": "stream",
     "text": [
      "*\n",
      "**\n",
      "***\n"
     ]
    }
   ],
   "source": [
    "#W2A17\n",
    "print(\"*\")\n",
    "print(\"**\")\n",
    "print(\"***\")"
   ]
  },
  {
   "cell_type": "code",
   "execution_count": 27,
   "id": "9be519ca-de17-4d1a-8531-d55398c3ebab",
   "metadata": {},
   "outputs": [
    {
     "name": "stdout",
     "output_type": "stream",
     "text": [
      "#### ###  #### ####\n",
      "  #  #  #   #    # \n",
      "  #  #  #   #    # \n",
      "  #  #  #   #    # \n",
      "  #  ###    #    # \n"
     ]
    }
   ],
   "source": [
    "#W2A18\n",
    "T = [\n",
    "    \"####\",\n",
    "    \"  # \",\n",
    "    \"  # \",\n",
    "    \"  # \",\n",
    "    \"  # \"\n",
    "]\n",
    "\n",
    "D = [\n",
    "    \"### \",\n",
    "    \"#  #\",\n",
    "    \"#  #\",\n",
    "    \"#  #\",\n",
    "    \"### \"\n",
    "]\n",
    "result_lines = []\n",
    "for row in range(5):\n",
    "    line = T[row] + \" \" + D[row] + \" \" + T[row] + \" \" + T[row]\n",
    "    result_lines.append(line)\n",
    "for line in result_lines:\n",
    "    print(line)\n"
   ]
  },
  {
   "cell_type": "code",
   "execution_count": 31,
   "id": "aba60f1d-4bcb-4b28-bd10-959b4ead2329",
   "metadata": {},
   "outputs": [
    {
     "name": "stdout",
     "output_type": "stream",
     "text": [
      "Monday\n",
      "Tuesday\n",
      "Wednesday\n",
      "Thursday\n",
      "Friday\n",
      "Saturday\n",
      "Sunday\n"
     ]
    }
   ],
   "source": [
    "#W2A19\n",
    "print(\"Monday\\nTuesday\\nWednesday\\nThursday\\nFriday\\nSaturday\\nSunday\")"
   ]
  },
  {
   "cell_type": "code",
   "execution_count": 33,
   "id": "40f1ec42-2938-4558-9fab-263529c35efd",
   "metadata": {},
   "outputs": [
    {
     "name": "stdout",
     "output_type": "stream",
     "text": [
      "January\n",
      "February\n",
      "March\n",
      "April\n",
      "May\n",
      "June\n",
      "July\n",
      "August\n",
      "September\n",
      "October\n",
      "November\n",
      "December\n"
     ]
    }
   ],
   "source": [
    "#W2A20\n",
    "print(\"January\\nFebruary\\nMarch\\nApril\\nMay\\nJune\\nJuly\\nAugust\\nSeptember\\nOctober\\nNovember\\nDecember\")"
   ]
  },
  {
   "cell_type": "code",
   "execution_count": 35,
   "id": "92d7f3e8-d845-4ae8-bcc7-0e29975ae20d",
   "metadata": {},
   "outputs": [
    {
     "name": "stdout",
     "output_type": "stream",
     "text": [
      "Hello World\n",
      "Hello World\n",
      "Hello World\n",
      "Hello World\n",
      "Hello World\n",
      "Hello World\n",
      "Hello World\n",
      "Hello World\n",
      "Hello World\n",
      "Hello World\n"
     ]
    }
   ],
   "source": [
    "#W2A21\n",
    "for i in range(10):\n",
    "    print(\"Hello World\")"
   ]
  },
  {
   "cell_type": "code",
   "execution_count": null,
   "id": "b22dfd76-32bd-48cc-9d05-eaa518ea85f8",
   "metadata": {},
   "outputs": [],
   "source": []
  }
 ],
 "metadata": {
  "kernelspec": {
   "display_name": "Python 3 (ipykernel)",
   "language": "python",
   "name": "python3"
  },
  "language_info": {
   "codemirror_mode": {
    "name": "ipython",
    "version": 3
   },
   "file_extension": ".py",
   "mimetype": "text/x-python",
   "name": "python",
   "nbconvert_exporter": "python",
   "pygments_lexer": "ipython3",
   "version": "3.13.7"
  }
 },
 "nbformat": 4,
 "nbformat_minor": 5
}
