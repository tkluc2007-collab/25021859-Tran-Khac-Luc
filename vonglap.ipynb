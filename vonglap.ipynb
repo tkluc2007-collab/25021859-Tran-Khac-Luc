{
 "cells": [
  {
   "cell_type": "code",
   "execution_count": 1,
   "id": "aa871192-852f-4473-8437-541ec2f45ec5",
   "metadata": {},
   "outputs": [
    {
     "name": "stdin",
     "output_type": "stream",
     "text": [
      "Nhập một số nguyên dương n để tính giai thừa:  5\n"
     ]
    },
    {
     "name": "stdout",
     "output_type": "stream",
     "text": [
      "Giai thừa của 5 là: 120\n"
     ]
    }
   ],
   "source": [
    "\n",
    "#Bài13\n",
    "n = int(input(\"Nhập một số nguyên dương n để tính giai thừa: \"))\n",
    "giai_thua = 1\n",
    "if n < 0:\n",
    "    print(\"Giai thừa không tồn tại cho số âm.\")\n",
    "elif n == 0:\n",
    "    print(\"Giai thừa của 0 là 1.\")\n",
    "else:\n",
    "    for i in range(1, n + 1):\n",
    "        giai_thua *= i\n",
    "    print(f\"Giai thừa của {n} là: {giai_thua}\")\n"
   ]
  },
  {
   "cell_type": "code",
   "execution_count": 24,
   "id": "4082e13e-3e34-4f9c-8422-62c23e5d57f0",
   "metadata": {},
   "outputs": [
    {
     "name": "stdin",
     "output_type": "stream",
     "text": [
      "Số mũ n (nguyên không âm):  3\n",
      "Cơ số x:  5\n"
     ]
    },
    {
     "name": "stdout",
     "output_type": "stream",
     "text": [
      "kết quả của 5.0^3 là : 125.0\n"
     ]
    }
   ],
   "source": [
    "#Baì14 cách1\n",
    "n = int(input(\"Số mũ n (nguyên không âm): \"))\n",
    "x = float(input(\"Cơ số x: \"))\n",
    "ket_qua = 1.0\n",
    "if n < 0:\n",
    "    print(\"Số mũ n phải là số nguyên không âm.\")\n",
    "elif n == 0:\n",
    "    if x == 0:\n",
    "        print(\"Trường hợp 0^0 không xác định.\")\n",
    "    else:\n",
    "        print(f\"Kết quả của {x}^{n} là : 1.0\")\n",
    "else:\n",
    "    for _ in range(n):\n",
    "         ket_qua *= x\n",
    "        \n",
    "    print(f\"kết quả của {x}^{n} là : {ket_qua}\")"
   ]
  },
  {
   "cell_type": "code",
   "execution_count": 18,
   "id": "31ac0865-d517-4f6e-9812-547050e42aae",
   "metadata": {},
   "outputs": [
    {
     "name": "stdin",
     "output_type": "stream",
     "text": [
      "Số mũ n (nguyên không âm):  5\n",
      "Cơ số x:  5\n"
     ]
    },
    {
     "name": "stdout",
     "output_type": "stream",
     "text": [
      "Kết quả của 5.0 mũ 5 là: 3125.0\n"
     ]
    }
   ],
   "source": [
    "#Bài14 cách2\n",
    "n = int(input(\"Số mũ n (nguyên không âm): \"))\n",
    "x = float(input(\"Cơ số x: \"))\n",
    "if n < 0:\n",
    "    print(\"Không thỏa mãn điều kiện: Số mũ n phải là số nguyên không âm.\")\n",
    "elif n == 0:\n",
    "    print(f\"Kết quả của {x} mũ {n} là: 1\")\n",
    "else:\n",
    "    ket_qua = x ** n\n",
    "    \n",
    "    print(f\"Kết quả của {x} mũ {n} là: {ket_qua}\")"
   ]
  },
  {
   "cell_type": "code",
   "execution_count": 25,
   "id": "4d106656-5cf8-4dde-b63a-32f0cf074e66",
   "metadata": {},
   "outputs": [
    {
     "name": "stdin",
     "output_type": "stream",
     "text": [
      "Nhập một số nguyên không âm n:  4\n"
     ]
    },
    {
     "name": "stdout",
     "output_type": "stream",
     "text": [
      "Tổng S = 1/0! + 1/1! + ... + 1/4! là: 2.708333333333333\n"
     ]
    }
   ],
   "source": [
    "#Bài15\n",
    "def tinh_giai_thua(k):\n",
    "    \"\"\"Hàm này tính giai thừa của một số nguyên không âm k.\"\"\"\n",
    "    if k == 0:\n",
    "        return 1\n",
    "    \n",
    "    giai_thua = 1\n",
    "    for i in range(1, k + 1):\n",
    "        giai_thua *= i\n",
    "    return giai_thua\n",
    "n = int(input(\"Nhập một số nguyên không âm n: \"))\n",
    "if n < 0:\n",
    "    print(\"Vui lòng nhập một số nguyên không âm.\")\n",
    "else:\n",
    "    tong_S = 0.0\n",
    "    for i in range(n + 1):\n",
    "        giai_thua_i = tinh_giai_thua(i)\n",
    "        tong_S += 1 / giai_thua_i\n",
    "    print(f\"Tổng S = 1/0! + 1/1! + ... + 1/{n}! là: {tong_S}\")\n"
   ]
  },
  {
   "cell_type": "code",
   "execution_count": 39,
   "id": "7806e7ba-ab2f-45fc-9a6f-f2498d0dd57c",
   "metadata": {},
   "outputs": [
    {
     "name": "stdin",
     "output_type": "stream",
     "text": [
      "Nhập giá trị của x:  3\n",
      "Nhập giá trị của n (số nguyên dương):  4\n"
     ]
    },
    {
     "name": "stdout",
     "output_type": "stream",
     "text": [
      "Tổng S = x^1 + x^2 + ... + x^4 là: 120.04166666666666\n"
     ]
    }
   ],
   "source": [
    "#Bài16\n",
    "x = float(input(\"Nhập giá trị của x: \"))\n",
    "n = int(input(\"Nhập giá trị của n (số nguyên dương): \"))\n",
    "tong_S == 0.0\n",
    "if n <= 0:\n",
    "    print(\"Vui lòng nhập một số nguyên dương.\")\n",
    "else:\n",
    "    for i in range(1,n + 1):\n",
    "        luy_thua_xi = x ** i \n",
    "        tong_S += luy_thua_xi\n",
    "    print(f\"Tổng S = x^1 + x^2 + ... + x^{n} là: {tong_S}\")\n",
    "\n",
    "\n",
    "    "
   ]
  },
  {
   "cell_type": "code",
   "execution_count": 41,
   "id": "476620e9-6736-40a3-9870-25f738daac0e",
   "metadata": {},
   "outputs": [
    {
     "name": "stdin",
     "output_type": "stream",
     "text": [
      "Nhập giá trị của x:  5\n",
      "Nhập giá trị của n (số nguyên không âm):  5\n"
     ]
    },
    {
     "name": "stdout",
     "output_type": "stream",
     "text": [
      "Tổng S = 91.41666666666667\n"
     ]
    }
   ],
   "source": [
    "#Bài17\n",
    "def tinh_giai_thua(k):\n",
    "    if k == 0:\n",
    "        return 1\n",
    "    giai_thua = 1\n",
    "    for i in range(1, k + 1):\n",
    "        giai_thua *= i\n",
    "    return giai_thua\n",
    "def tinh_tong_S(x, n):\n",
    "    tong_S = 0.0\n",
    "    for i in range(n + 1):\n",
    "        luy_thua_xi = x ** i\n",
    "        giai_thua_i = tinh_giai_thua(i)\n",
    "        tong_S += luy_thua_xi / giai_thua_i\n",
    "    return tong_S\n",
    "x = float(input(\"Nhập giá trị của x: \"))\n",
    "n = int(input(\"Nhập giá trị của n (số nguyên không âm): \"))\n",
    "if n < 0:\n",
    "    print(\"Vui lòng nhập một số nguyên không âm.\")\n",
    "else:\n",
    "    ket_qua = tinh_tong_S(x, n)\n",
    "    print(f\"Tổng S = {ket_qua}\")\n"
   ]
  },
  {
   "cell_type": "code",
   "execution_count": 49,
   "id": "89382ced-d17f-436e-9cfe-90533eab0f10",
   "metadata": {},
   "outputs": [],
   "source": []
  },
  {
   "cell_type": "code",
   "execution_count": 48,
   "id": "1300e1ab-6a73-419b-8de8-ee43bd291283",
   "metadata": {},
   "outputs": [
    {
     "name": "stdout",
     "output_type": "stream",
     "text": [
      "153 370 371 407 "
     ]
    }
   ],
   "source": [
    "#Bài\n",
    "for num in range(100, 1000):\n",
    "    a = num // 100\n",
    "    b = (num // 10) % 10\n",
    "    c = num % 10\n",
    "    if num == a**3 + b**3 + c**3:\n",
    "        print(num, end=\" \")\n",
    "\n"
   ]
  },
  {
   "cell_type": "code",
   "execution_count": 47,
   "id": "38062f5c-6a3a-4dd7-999f-ac587b690585",
   "metadata": {},
   "outputs": [
    {
     "name": "stdin",
     "output_type": "stream",
     "text": [
      "Nhập một số nguyên không âm:  7\n"
     ]
    },
    {
     "name": "stdout",
     "output_type": "stream",
     "text": [
      "7 là số nguyên tố.\n"
     ]
    }
   ],
   "source": [
    "#Bài19\n",
    "n = int(input(\"Nhập một số nguyên không âm: \"))\n",
    "\n",
    "La_so_nguyen_to = True\n",
    "\n",
    "if n < 2:\n",
    "    La_so_nguyen_to = False\n",
    "else:\n",
    "    for i in range(2, int(n**0.5) + 1):\n",
    "        if n % i == 0:\n",
    "            La_so_nguyen_To = False\n",
    "            break\n",
    "\n",
    "if La_so_nguyen_to:\n",
    "    print(f\"{n} là số nguyên tố.\")\n",
    "else:\n",
    "    print(f\"{n} không phải là số nguyên tố.\")"
   ]
  },
  {
   "cell_type": "code",
   "execution_count": null,
   "id": "a300b910-1cff-42aa-85b4-fb154042cc6d",
   "metadata": {},
   "outputs": [],
   "source": [
    "#Bài20\n"
   ]
  }
 ],
 "metadata": {
  "kernelspec": {
   "display_name": "Python 3 (ipykernel)",
   "language": "python",
   "name": "python3"
  },
  "language_info": {
   "codemirror_mode": {
    "name": "ipython",
    "version": 3
   },
   "file_extension": ".py",
   "mimetype": "text/x-python",
   "name": "python",
   "nbconvert_exporter": "python",
   "pygments_lexer": "ipython3",
   "version": "3.13.5"
  }
 },
 "nbformat": 4,
 "nbformat_minor": 5
}
