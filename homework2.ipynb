{
 "cells": [
  {
   "cell_type": "code",
   "execution_count": 2,
   "id": "dd076cee-8553-43e1-a826-f17a014e3cfa",
   "metadata": {},
   "outputs": [
    {
     "name": "stdin",
     "output_type": "stream",
     "text": [
      " 3\n",
      " 4\n"
     ]
    },
    {
     "name": "stdout",
     "output_type": "stream",
     "text": [
      "12.0\n",
      "14.0\n"
     ]
    }
   ],
   "source": [
    "#Bài1\n",
    "CD = float(input())\n",
    "CR = float(input())\n",
    "dien_tich = CD*CR\n",
    "chu_vi = 2*(CD + CR)\n",
    "print(dien_tich)\n",
    "print(chu_vi)"
   ]
  },
  {
   "cell_type": "code",
   "execution_count": 3,
   "id": "47421c51-0748-48bb-8150-38fe115d3826",
   "metadata": {},
   "outputs": [
    {
     "name": "stdin",
     "output_type": "stream",
     "text": [
      " 4\n"
     ]
    },
    {
     "name": "stdout",
     "output_type": "stream",
     "text": [
      "50.24\n"
     ]
    }
   ],
   "source": [
    "#Bài2\n",
    "r = float(input())\n",
    "pi = 3.14\n",
    "S = r**2*pi\n",
    "print(S)"
   ]
  },
  {
   "cell_type": "code",
   "execution_count": 21,
   "id": "4a65a221-edd3-453a-a1a2-e5860c3a5829",
   "metadata": {},
   "outputs": [
    {
     "name": "stdin",
     "output_type": "stream",
     "text": [
      " 5\n",
      " 5\n",
      " 5\n"
     ]
    },
    {
     "name": "stdout",
     "output_type": "stream",
     "text": [
      "Chu vi là: 15.0\n",
      "Diện tích là: 10.825317547305483\n",
      "Là tam giác đều\n"
     ]
    }
   ],
   "source": [
    "#Bài3\n",
    "import math\n",
    "\n",
    "a = float(input())\n",
    "b = float(input())\n",
    "c = float(input())\n",
    "\n",
    "if a > 0 and b > 0 and c > 0 and (a + b > c) and (a + c > b) and (b + c > a):\n",
    "    chu_vi = a + b + c\n",
    "    P = (a + b + c) / 2\n",
    "    S = (P * (P - a) * (P - b) * (P - c)) ** 0.5\n",
    "    \n",
    "    print(\"Chu vi là:\",chu_vi)\n",
    "    print(\"Diện tích là:\",S)\n",
    "    \n",
    "    if a == b== c:\n",
    "        dang_tam_giac = \"Là tam giác đều\"\n",
    "    elif a ** 2 + b ** 2 == c ** 2 or a ** 2 + c ** 2 == b ** 2 or b ** 2 + c ** 2 == a ** 2:\n",
    "        dang_tam_giac = \"Là tam giác vuông\"\n",
    "        if (a == b) or (a == c) or (b == c):\n",
    "            dang_tam_giac = \"Là tam giác vuông cân\"\n",
    "    elif a == b or a == c or b == c:\n",
    "        dang_tam_giac = \"Là tam giác cân\"\n",
    "    else:\n",
    "        dang_tam_giac = \"Là tam giác thường\"\n",
    "    \n",
    "    print(dang_tam_giac)\n",
    "    \n",
    "else:\n",
    "    print(\"Không là 3 cạnh của 1 tam giác\")"
   ]
  },
  {
   "cell_type": "code",
   "execution_count": 16,
   "id": "bc663d8b-34db-42cf-bf26-1afa3c9ae365",
   "metadata": {},
   "outputs": [
    {
     "name": "stdin",
     "output_type": "stream",
     "text": [
      " 8\n",
      " 4\n"
     ]
    },
    {
     "name": "stdout",
     "output_type": "stream",
     "text": [
      "Nghiệm của phương trình là: -0.5\n"
     ]
    }
   ],
   "source": [
    "#Bài4\n",
    "a = float(input())\n",
    "b = float(input())\n",
    "\n",
    "# Giải phương trình ax + b = 0\n",
    "\n",
    "if a == 0:\n",
    "    if b == 0:\n",
    "        print(\"Phương trình có vô số nghiệm.\")\n",
    "    else:\n",
    "        print(\"Phương trình vô nghiệm.\")\n",
    "else:\n",
    "    x = -b / a\n",
    "    print(\"Nghiệm của phương trình là:\", x)\n"
   ]
  },
  {
   "cell_type": "code",
   "execution_count": 28,
   "id": "868553ea-a5fd-452e-a985-2b26cd3a369e",
   "metadata": {},
   "outputs": [
    {
     "name": "stdin",
     "output_type": "stream",
     "text": [
      " 1\n",
      " 5\n",
      " 2\n"
     ]
    },
    {
     "name": "stdout",
     "output_type": "stream",
     "text": [
      "nghiệm thứ nhất x1=: -0.4384471871911697\n",
      "nghiệm thứ nhất x2=: -4.561552812808831\n"
     ]
    }
   ],
   "source": [
    "#Bài5\n",
    "a = float(input())\n",
    "b = float(input())\n",
    "c = float(input())\n",
    "#giải pt ax2 + bx + c = 0\n",
    "if a == 0:\n",
    "    if b == 0:\n",
    "        if c == 0:\n",
    "            print(\"Phương trình có vô số nghiệm.\")\n",
    "        else:\n",
    "            print(\"Phương trình vô nghiệm.\")\n",
    "    else:\n",
    "        x = -c / b\n",
    "        print(\"Nghiệm của phương trình là:\", x)\n",
    "else:\n",
    "    delta = b**2 - 4*a*c\n",
    "    if delta < 0:\n",
    "        print(\"Phương trình vô nghiệm\")\n",
    "    if delta >= 0:\n",
    "        x1 = (-b + delta**0.5)/(2*a)\n",
    "        x2 = (-b - delta**0.5)/(2*a)\n",
    "        print(\"nghiệm thứ nhất x1=:\",x1)\n",
    "        print(\"nghiệm thứ nhất x2=:\",x2)"
   ]
  },
  {
   "cell_type": "code",
   "execution_count": 30,
   "id": "46afd4ef-b69f-4b54-b177-f95d51fe8472",
   "metadata": {},
   "outputs": [
    {
     "name": "stdin",
     "output_type": "stream",
     "text": [
      "Nhập số a:  1\n",
      "Nhập số b:  2\n",
      "Nhập số c:  3\n",
      "Nhập số d:  4\n"
     ]
    },
    {
     "name": "stdout",
     "output_type": "stream",
     "text": [
      "Giá trị lớn nhất trong 4 số là: 4.0\n"
     ]
    }
   ],
   "source": [
    "#Bài6\n",
    "a = float(input(\"Nhập số a: \"))\n",
    "b = float(input(\"Nhập số b: \"))\n",
    "c = float(input(\"Nhập số c: \"))\n",
    "d = float(input(\"Nhập số d: \"))\n",
    "max_value = max(a, b, c, d)\n",
    "print(f\"Giá trị lớn nhất trong 4 số là: {max_value}\")"
   ]
  },
  {
   "cell_type": "code",
   "execution_count": 31,
   "id": "30b43ccd-607d-45b5-ae2a-978d4fb2b0df",
   "metadata": {},
   "outputs": [
    {
     "name": "stdin",
     "output_type": "stream",
     "text": [
      "Nhập số a:  1\n",
      "Nhập số b:  2\n",
      "Nhập số c:  3\n",
      "Nhập số d:  4\n"
     ]
    },
    {
     "name": "stdout",
     "output_type": "stream",
     "text": [
      "Giá trị nhỏ nhất trong 4 số là: 1.0\n"
     ]
    }
   ],
   "source": [
    "#Bài7\n",
    "a = float(input(\"Nhập số a: \"))\n",
    "b = float(input(\"Nhập số b: \"))\n",
    "c = float(input(\"Nhập số c: \"))\n",
    "d = float(input(\"Nhập số d: \"))\n",
    "min_value = min(a, b, c, d)\n",
    "print(f\"Giá trị nhỏ nhất trong 4 số là: {min_value}\")"
   ]
  },
  {
   "cell_type": "code",
   "execution_count": 40,
   "id": "c52c6e0a-43c0-4833-b76a-3fd22e74f81c",
   "metadata": {},
   "outputs": [
    {
     "name": "stdin",
     "output_type": "stream",
     "text": [
      " 4\n",
      " 3\n",
      " 6\n",
      " 2\n",
      " 4\n",
      " 6\n"
     ]
    },
    {
     "name": "stdout",
     "output_type": "stream",
     "text": [
      "Hệ phương trình có nghiệm duy nhất:\n",
      "x = 1.0\n",
      "y = -0.0\n"
     ]
    }
   ],
   "source": [
    "#Bài8\n",
    "a = float(input())\n",
    "b = float(input())\n",
    "c = float(input())\n",
    "d = float(input())\n",
    "m = float(input())\n",
    "n = float(input())\n",
    "D = a * d - b * c\n",
    "Dx = m * d - b * n\n",
    "Dy = a * n - c * m\n",
    "if D != 0:\n",
    "    x = Dx / D\n",
    "    y = Dy / D\n",
    "    print(\"Hệ phương trình có nghiệm duy nhất:\")\n",
    "    print(\"x =\",x)\n",
    "    print(\"y =\",y)\n",
    "elif Dx == 0 and Dy == 0:\n",
    "    print(\"Hệ phương trình có vô số nghiệm.\")\n",
    "else:\n",
    "    print(\"Hệ phương trình vô nghiệm.\")\n",
    "\n",
    "    \n"
   ]
  },
  {
   "cell_type": "code",
   "execution_count": 37,
   "id": "011dfada-f3f1-4a4d-b44d-2876566a7d52",
   "metadata": {},
   "outputs": [
    {
     "name": "stdin",
     "output_type": "stream",
     "text": [
      "Nhập tổng thời gian (tính bằng giây):  4508\n"
     ]
    },
    {
     "name": "stdout",
     "output_type": "stream",
     "text": [
      "Tổng thời gian là: 1 giờ, 15 phút, 8 giây.\n"
     ]
    }
   ],
   "source": [
    "#Bài9\n",
    "tong_so_giay = int(input(\"Nhập tổng thời gian (tính bằng giây): \"))\n",
    "gio = tong_so_giay // 3600\n",
    "so_giay_con_lai_sau_gio = tong_so_giay % 3600\n",
    "phut = so_giay_con_lai_sau_gio // 60\n",
    "giay = so_giay_con_lai_sau_gio % 60\n",
    "print(f\"Tổng thời gian là: {gio} giờ, {phut} phút, {giay} giây.\")\n",
    "\n"
   ]
  },
  {
   "cell_type": "code",
   "execution_count": 36,
   "id": "275f76a1-02cb-4a48-b72e-30de9ca29ed1",
   "metadata": {},
   "outputs": [
    {
     "name": "stdin",
     "output_type": "stream",
     "text": [
      " 1\n",
      " 3\n",
      " 4\n",
      " 2\n",
      " 3\n"
     ]
    },
    {
     "name": "stdout",
     "output_type": "stream",
     "text": [
      "Điểm A không thuộc đường tròn\n"
     ]
    }
   ],
   "source": [
    "#Bài10\n",
    "#Tâm I(a;b) A(x;y)\n",
    "x = float(input())\n",
    "y = float(input())\n",
    "r = float(input())\n",
    "a = float(input())\n",
    "b = float(input())\n",
    "if (x - a)**2 + (y - b)**2 == r**2:\n",
    "    print(\"Điểm A có thuộc đường tròn\")\n",
    "else:\n",
    "    print(\"Điểm A không thuộc đường tròn\")\n",
    "    "
   ]
  },
  {
   "cell_type": "code",
   "execution_count": 35,
   "id": "1d045255-e897-4269-8d04-1e8ae5ac0519",
   "metadata": {},
   "outputs": [
    {
     "name": "stdin",
     "output_type": "stream",
     "text": [
      " 3\n",
      " 4\n"
     ]
    },
    {
     "name": "stdout",
     "output_type": "stream",
     "text": [
      "81.0\n"
     ]
    }
   ],
   "source": [
    "#Bài11\n",
    "x = float(input())\n",
    "y = float(input())\n",
    "print(x**y)\n"
   ]
  },
  {
   "cell_type": "code",
   "execution_count": null,
   "id": "f3f1c055-fa58-4021-a75d-80abc340060e",
   "metadata": {},
   "outputs": [],
   "source": []
  }
 ],
 "metadata": {
  "kernelspec": {
   "display_name": "Python 3 (ipykernel)",
   "language": "python",
   "name": "python3"
  },
  "language_info": {
   "codemirror_mode": {
    "name": "ipython",
    "version": 3
   },
   "file_extension": ".py",
   "mimetype": "text/x-python",
   "name": "python",
   "nbconvert_exporter": "python",
   "pygments_lexer": "ipython3",
   "version": "3.13.5"
  }
 },
 "nbformat": 4,
 "nbformat_minor": 5
}
