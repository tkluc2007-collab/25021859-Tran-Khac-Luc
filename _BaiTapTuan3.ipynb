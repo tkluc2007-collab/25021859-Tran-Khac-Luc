{
 "cells": [
  {
   "cell_type": "code",
   "execution_count": 58,
   "id": "13dc4798-daf5-4c20-b810-8d94deccf438",
   "metadata": {},
   "outputs": [
    {
     "name": "stdin",
     "output_type": "stream",
     "text": [
      "Nhập hai số:  3\n"
     ]
    },
    {
     "ename": "ValueError",
     "evalue": "not enough values to unpack (expected 2, got 1)",
     "output_type": "error",
     "traceback": [
      "\u001b[1;31m---------------------------------------------------------------------------\u001b[0m",
      "\u001b[1;31mValueError\u001b[0m                                Traceback (most recent call last)",
      "Cell \u001b[1;32mIn[58], line 2\u001b[0m\n\u001b[0;32m      1\u001b[0m \u001b[38;5;66;03m#W3A2\u001b[39;00m\n\u001b[1;32m----> 2\u001b[0m a, b \u001b[38;5;241m=\u001b[39m \u001b[38;5;28mmap\u001b[39m(\u001b[38;5;28mint\u001b[39m, \u001b[38;5;28minput\u001b[39m(\u001b[38;5;124m\"\u001b[39m\u001b[38;5;124mNhập hai số: \u001b[39m\u001b[38;5;124m\"\u001b[39m)\u001b[38;5;241m.\u001b[39msplit())\n\u001b[0;32m      3\u001b[0m a \u001b[38;5;241m=\u001b[39m a \u001b[38;5;241m^\u001b[39m b\n\u001b[0;32m      4\u001b[0m b \u001b[38;5;241m=\u001b[39m a \u001b[38;5;241m^\u001b[39m b\n",
      "\u001b[1;31mValueError\u001b[0m: not enough values to unpack (expected 2, got 1)"
     ]
    }
   ],
   "source": [
    "#W3A2\n",
    "a, b = map(int, input(\"Nhập hai số: \").split())\n",
    "a = a ^ b\n",
    "b = a ^ b\n",
    "a = a ^ b\n",
    "print(a, b)"
   ]
  },
  {
   "cell_type": "code",
   "execution_count": 57,
   "id": "c97218b0-e54b-4ca5-9eb0-6fb990810dae",
   "metadata": {},
   "outputs": [
    {
     "name": "stdin",
     "output_type": "stream",
     "text": [
      "Nhập số n:  4\n"
     ]
    },
    {
     "name": "stdout",
     "output_type": "stream",
     "text": [
      "YES\n"
     ]
    }
   ],
   "source": [
    "#W3A3\n",
    "n = int(input(\"Nhập số n: \"))\n",
    "if n > 0 and (n & (n - 1)) == 0:\n",
    "    print(\"YES\")\n",
    "else:\n",
    "    print(\"NO\")"
   ]
  },
  {
   "cell_type": "code",
   "execution_count": 6,
   "id": "3414cae5-2717-4639-8e1e-e87c61215c67",
   "metadata": {},
   "outputs": [
    {
     "name": "stdin",
     "output_type": "stream",
     "text": [
      " 5\n",
      " 4\n"
     ]
    },
    {
     "name": "stdout",
     "output_type": "stream",
     "text": [
      "1\n"
     ]
    }
   ],
   "source": [
    "#W3A4\n",
    "import math\n",
    "a = float(input())\n",
    "b = float(input())\n",
    "c = a / b\n",
    "print(math.floor(c))\n"
   ]
  },
  {
   "cell_type": "code",
   "execution_count": 7,
   "id": "52227d47-0623-4513-ae0e-38244849ffec",
   "metadata": {},
   "outputs": [
    {
     "name": "stdin",
     "output_type": "stream",
     "text": [
      " 5\n",
      " 2\n"
     ]
    },
    {
     "name": "stdout",
     "output_type": "stream",
     "text": [
      "3\n"
     ]
    }
   ],
   "source": [
    "#W3A5\n",
    "import math\n",
    "a = float(input())\n",
    "b = float(input())\n",
    "c = a / b\n",
    "print(math.ceil(c))\n"
   ]
  },
  {
   "cell_type": "code",
   "execution_count": 46,
   "id": "4279114a-5041-4444-97f6-e3b545fc0f5c",
   "metadata": {},
   "outputs": [
    {
     "name": "stdin",
     "output_type": "stream",
     "text": [
      "Nhập vào một số nguyên dương x:  6\n"
     ]
    },
    {
     "name": "stdout",
     "output_type": "stream",
     "text": [
      "even\n"
     ]
    }
   ],
   "source": [
    "#W3A6\n",
    "def check_even_or_odd():\n",
    "    \"\"\"Hàm kiểm tra một số nguyên dương là chẵn hay lẻ.\"\"\"\n",
    "try:\n",
    "    x = int(input(\"Nhập vào một số nguyên dương x: \"))\n",
    "    if x <= 0:\n",
    "        print(\"Vui lòng nhập một số nguyên dương.\")\n",
    "    elif x % 2 == 0:\n",
    "        print(\"even\")  \n",
    "    else:\n",
    "        print(\"odd\")\n",
    "except ValueError:\n",
    "    print(\"Lỗi: Đầu vào không hợp lệ. Vui lòng nhập một số nguyên.\")\n"
   ]
  },
  {
   "cell_type": "code",
   "execution_count": 41,
   "id": "d0965116-649f-404f-9fe2-6176dfc24bce",
   "metadata": {},
   "outputs": [
    {
     "name": "stdin",
     "output_type": "stream",
     "text": [
      " -6\n",
      " -7\n"
     ]
    },
    {
     "name": "stdout",
     "output_type": "stream",
     "text": [
      "Yes\n"
     ]
    }
   ],
   "source": [
    "#W3A7\n",
    "a = int(input())\n",
    "b = int(input())\n",
    "if a < 0 and b < 0:\n",
    "    print(\"Yes\")\n",
    "else:\n",
    "    print(\"No\")"
   ]
  },
  {
   "cell_type": "code",
   "execution_count": 43,
   "id": "4de7d2df-3493-46a9-b6f7-056a95a64217",
   "metadata": {},
   "outputs": [
    {
     "name": "stdin",
     "output_type": "stream",
     "text": [
      " hello\n",
      " hi\n"
     ]
    },
    {
     "name": "stdout",
     "output_type": "stream",
     "text": [
      "True\n"
     ]
    }
   ],
   "source": [
    "#W3A8\n",
    "a = input()\n",
    "b = input()\n",
    "if len(a) > len(b):\n",
    "    print(\"True\")\n",
    "else:\n",
    "    print(\"false\")"
   ]
  },
  {
   "cell_type": "code",
   "execution_count": 45,
   "id": "592ccaa8-b640-4f3c-8a61-93519ff9c3d3",
   "metadata": {},
   "outputs": [],
   "source": [
    "#W3A9\n",
    "def ba_canh_cua_tam_giac():\n",
    "    \"\"\"a,b,c tương ứng là độ dài 3 cạnh của 1 tam giác.\"\"\"\n",
    "a = float(input())\n",
    "b = float(input())\n",
    "c = float(input())\n",
    "if (a + b > c) and (a + c > b) and (b + c > a):\n",
    "    print(\"Yes\")\n",
    "else: \n",
    "    print(\"No\")"
   ]
  },
  {
   "cell_type": "code",
   "execution_count": 49,
   "id": "eda2bf43-9227-4deb-bd8d-1bfc39d28c84",
   "metadata": {},
   "outputs": [
    {
     "name": "stdin",
     "output_type": "stream",
     "text": [
      "Nhập số thứ nhất (n1):  4\n",
      "Nhập số thứ hai (n2):  5\n",
      "Nhập số thứ ba (n3):  6\n",
      "Nhập số thứ tư (n4):  7\n"
     ]
    },
    {
     "name": "stdout",
     "output_type": "stream",
     "text": [
      "Bốn số đã nhập là: 4, 5, 6, 7\n",
      "Số nguyên lớn nhất là: 7\n"
     ]
    }
   ],
   "source": [
    "#W3A10\n",
    "n1 = int(input(\"Nhập số thứ nhất (n1): \"))\n",
    "n2 = int(input(\"Nhập số thứ hai (n2): \"))\n",
    "n3 = int(input(\"Nhập số thứ ba (n3): \"))\n",
    "n4 = int(input(\"Nhập số thứ tư (n4): \"))\n",
    "largest = n1\n",
    "if n2 > largest:\n",
    "    largest = n2\n",
    "if n3 > largest:\n",
    "    largest = n3\n",
    "if n4 > largest:\n",
    "    largest = n4\n",
    "print(f\"Bốn số đã nhập là: {n1}, {n2}, {n3}, {n4}\")\n",
    "print(f\"Số nguyên lớn nhất là: {largest}\")\n",
    "\n"
   ]
  },
  {
   "cell_type": "code",
   "execution_count": 50,
   "id": "c0ae8619-a458-4915-bef5-2345a3bd0dee",
   "metadata": {},
   "outputs": [
    {
     "name": "stdout",
     "output_type": "stream",
     "text": [
      "--- Chương trình Phân loại tam giác ---\n"
     ]
    },
    {
     "name": "stdin",
     "output_type": "stream",
     "text": [
      "Nhập độ dài cạnh a:  4\n",
      "Nhập độ dài cạnh b:  6\n",
      "Nhập độ dài cạnh c:  5\n"
     ]
    },
    {
     "name": "stdout",
     "output_type": "stream",
     "text": [
      "Tam giác thường\n"
     ]
    }
   ],
   "source": [
    "#W3A11\n",
    "print(\"--- Chương trình Phân loại tam giác ---\")\n",
    "try:\n",
    "    a = int(input(\"Nhập độ dài cạnh a: \"))\n",
    "    b = int(input(\"Nhập độ dài cạnh b: \"))\n",
    "    c = int(input(\"Nhập độ dài cạnh c: \"))\n",
    "    if a <= 0 or b <= 0 or c <= 0:\n",
    "        print(\"Không phải tam giác (Các cạnh phải là số nguyên dương).\")\n",
    "    elif a + b <= c or a + c <= b or b + c <= a:\n",
    "        print(\"Không phải tam giác\")\n",
    "    else:\n",
    "        if a == b and b == c:\n",
    "            print(\"Tam giác đều\")\n",
    "        elif a == b or a == c or b == c:\n",
    "            print(\"Tam giác cân\")\n",
    "        else:\n",
    "            print(\"Tam giác thường\")\n",
    "except ValueError:\n",
    "    print(\"Lỗi: Đầu vào không hợp lệ. Vui lòng nhập số nguyên.\")"
   ]
  },
  {
   "cell_type": "code",
   "execution_count": 51,
   "id": "ef5c579a-0b06-44d6-bb59-bbb4ea9a9a52",
   "metadata": {},
   "outputs": [
    {
     "name": "stdin",
     "output_type": "stream",
     "text": [
      "Nhập vào một số nguyên dương n (số năm):  2023\n"
     ]
    },
    {
     "name": "stdout",
     "output_type": "stream",
     "text": [
      "No\n"
     ]
    }
   ],
   "source": [
    "#W3A12\n",
    "try:\n",
    "    n = int(input(\"Nhập vào một số nguyên dương n (số năm): \"))\n",
    "    if n > 0:\n",
    "        if (n % 4 == 0 and n % 100 != 0) or (n % 400 == 0):\n",
    "            print(\"Yes\")\n",
    "        else:\n",
    "            print(\"No\")\n",
    "    else:\n",
    "        print(\"Vui lòng nhập một số nguyên dương.\")\n",
    "except ValueError:\n",
    "    print(\"Lỗi: Đầu vào không hợp lệ. Vui lòng nhập số nguyên.\")"
   ]
  },
  {
   "cell_type": "code",
   "execution_count": 52,
   "id": "a13f86b4-6a20-4dea-b685-022cdc59decb",
   "metadata": {},
   "outputs": [
    {
     "name": "stdin",
     "output_type": "stream",
     "text": [
      "Nhập hệ số a:  3\n",
      "Nhập hệ số b:  4\n"
     ]
    },
    {
     "name": "stdout",
     "output_type": "stream",
     "text": [
      "Phương trình có nghiệm x = -1.33\n"
     ]
    }
   ],
   "source": [
    "#W3A14\n",
    "try:\n",
    "    a = float(input(\"Nhập hệ số a: \"))\n",
    "    b = float(input(\"Nhập hệ số b: \"))\n",
    "    if a == 0:\n",
    "        if b == 0:\n",
    "            print(\"Vô số nghiệm\")\n",
    "        else:\n",
    "            print(\"Vô nghiệm\")\n",
    "    else:\n",
    "        x = -b / a\n",
    "        print(f\"Phương trình có nghiệm x = {x:.2f}\")\n",
    "\n",
    "except ValueError:\n",
    "    print(\"Lỗi: Đầu vào không hợp lệ. Vui lòng nhập số thực.\")"
   ]
  },
  {
   "cell_type": "code",
   "execution_count": 53,
   "id": "ec1c00a1-5159-43aa-b2d4-4398573160d2",
   "metadata": {},
   "outputs": [
    {
     "name": "stdin",
     "output_type": "stream",
     "text": [
      "Nhập điểm trung bình (DTB):  7.9\n"
     ]
    },
    {
     "name": "stdout",
     "output_type": "stream",
     "text": [
      "Xếp loại: Khá\n"
     ]
    }
   ],
   "source": [
    "#W3A15\n",
    "try:\n",
    "    dtb = float(input(\"Nhập điểm trung bình (DTB): \"))\n",
    "    if dtb < 0 or dtb > 10:\n",
    "        print(\"Điểm không hợp lệ. Vui lòng nhập điểm từ 0 đến 10.\")\n",
    "    elif dtb >= 8.0:\n",
    "        print(\"Xếp loại: Giỏi\")\n",
    "    elif dtb >= 6.5:\n",
    "        print(\"Xếp loại: Khá\")\n",
    "    elif dtb >= 5.0:\n",
    "        print(\"Xếp loại: Trung bình\")\n",
    "    else:\n",
    "        print(\"Xếp loại: Yếu\")\n",
    "except ValueError:\n",
    "    print(\"Lỗi: Đầu vào không hợp lệ. Vui lòng nhập một số.\")"
   ]
  },
  {
   "cell_type": "code",
   "execution_count": 56,
   "id": "4dc21c6b-e386-4243-8128-bb2ca8b89be6",
   "metadata": {},
   "outputs": [
    {
     "name": "stdin",
     "output_type": "stream",
     "text": [
      " 3.6\n"
     ]
    },
    {
     "name": "stdout",
     "output_type": "stream",
     "text": [
      "4 3 4\n"
     ]
    }
   ],
   "source": [
    "#W3A16\n",
    "s = float(input().strip())\n",
    "i = int(s)\n",
    "# floor, ceil\n",
    "if s == i:\n",
    "    fl = ce = i\n",
    "else:\n",
    "    fl = i if s > 0 else i - 1    # floor\n",
    "    ce = i if s < 0 else i + 1    # ceil\n",
    "# round to nearest (tie .5 -> away from zero)\n",
    "r = int(s + 0.5) if s >= 0 else int(s - 0.5)\n",
    "print(ce, fl, r)"
   ]
  },
  {
   "cell_type": "code",
   "execution_count": 54,
   "id": "7f2b4a5f-e598-4e2a-b9ab-3d17899af0e8",
   "metadata": {},
   "outputs": [
    {
     "name": "stdin",
     "output_type": "stream",
     "text": [
      "Nhập số thứ nhất (a):  4\n",
      "Nhập số thứ hai (b):  3\n",
      "Nhập số thứ ba (c):  5\n",
      "Nhập số thứ tư (d):  6\n"
     ]
    },
    {
     "name": "stdout",
     "output_type": "stream",
     "text": [
      "No (Công bội q không phải là số nguyên)\n"
     ]
    }
   ],
   "source": [
    "#W3A17\n",
    "try:\n",
    "    a = float(input(\"Nhập số thứ nhất (a): \"))\n",
    "    b = float(input(\"Nhập số thứ hai (b): \"))\n",
    "    c = float(input(\"Nhập số thứ ba (c): \"))\n",
    "    d = float(input(\"Nhập số thứ tư (d): \"))\n",
    "    if a == 0:\n",
    "        if b == 0 and c == 0 and d == 0:\n",
    "            print(\"Yes (Cấp số nhân với a=b=c=d=0)\")\n",
    "        else:\n",
    "            print(\"No (a=0 nhưng các số còn lại khác 0)\")\n",
    "    else:\n",
    "        q_float = b / a\n",
    "        if q_float == int(q_float):\n",
    "            q = int(q_float)\n",
    "            expected_c = b * q\n",
    "            expected_d = c * q\n",
    "            if (abs(c - expected_c) < 1e-9) and (abs(d - expected_d) < 1e-9):\n",
    "                print(f\"Yes (Công bội nguyên q = {q})\")\n",
    "            else:\n",
    "                print(\"No (Không thỏa mãn các số tiếp theo)\")\n",
    "                \n",
    "        else:\n",
    "            print(\"No (Công bội q không phải là số nguyên)\")\n",
    "\n",
    "except ValueError:\n",
    "    print(\"Lỗi: Đầu vào không hợp lệ. Vui lòng nhập số.\")"
   ]
  },
  {
   "cell_type": "code",
   "execution_count": null,
   "id": "5309fce2-00e1-4dff-bf4e-2d059716f7d3",
   "metadata": {},
   "outputs": [],
   "source": []
  }
 ],
 "metadata": {
  "kernelspec": {
   "display_name": "Python 3 (ipykernel)",
   "language": "python",
   "name": "python3"
  },
  "language_info": {
   "codemirror_mode": {
    "name": "ipython",
    "version": 3
   },
   "file_extension": ".py",
   "mimetype": "text/x-python",
   "name": "python",
   "nbconvert_exporter": "python",
   "pygments_lexer": "ipython3",
   "version": "3.13.5"
  }
 },
 "nbformat": 4,
 "nbformat_minor": 5
}
